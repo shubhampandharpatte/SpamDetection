{
 "cells": [
  {
   "cell_type": "code",
   "execution_count": 1,
   "id": "68d04afb-a15d-4766-974a-ce9d11231ea2",
   "metadata": {},
   "outputs": [
    {
     "name": "stdout",
     "output_type": "stream",
     "text": [
      "                                      COMMENT_ID  \\\n",
      "385          z12qg5voponpgxwot04ci3txdw24ejr431g   \n",
      "29           z13mwrzgekanfjbnw23pgfwzwzf4wxgwv04   \n",
      "184  LneaDw26bFsNCzFDEM6x7-7RjXB5NjguHaB7LJf7qFg   \n",
      "440  LneaDw26bFv4NFg1m91sL1Aq1p-2N06VweQT4vOwTqc   \n",
      "111  LneaDw26bFuLqTvlvHELy-tdwJHJYoSpv3zRbTj-5SQ   \n",
      "\n",
      "                                 AUTHOR                        DATE  \\\n",
      "385                         Jp Galeanoo  2015-05-21T01:05:43.761000   \n",
      "29                                Maryf  2015-05-28T19:27:42.212000   \n",
      "184                   dungeonturmoil1 .                         NaN   \n",
      "440  Ando Nesia - | MC | Music Producer                         NaN   \n",
      "111                        Adela Korman                         NaN   \n",
      "\n",
      "                                               CONTENT  CLASS  \n",
      "385                                I  love you Eminem﻿      0  \n",
      "29      Rihanna is absolutely gorgeous in this video.﻿      0  \n",
      "184  YO GUYS SORRY IF THIS ANNOYS YOU!!! BUT CHECK ...      1  \n",
      "440  DO YOU KNOW HOW SEAN KINGSTON GOT FAMOUS WHY D...      1  \n",
      "111                         Check out my SEXY VIDEO :*      1  \n"
     ]
    }
   ],
   "source": [
    "import pandas as pd\n",
    "import numpy as np\n",
    "from sklearn.feature_extraction.text import CountVectorizer\n",
    "from sklearn.model_selection import train_test_split\n",
    "from sklearn.naive_bayes import BernoulliNB\n",
    "\n",
    "data = pd.read_csv(\"spamDetection.csv\")\n",
    "print(data.sample(5))"
   ]
  },
  {
   "cell_type": "code",
   "execution_count": 2,
   "id": "5c863d69-87b4-48a9-aa44-d5e066ad1ce5",
   "metadata": {},
   "outputs": [
    {
     "name": "stdout",
     "output_type": "stream",
     "text": [
      "                                               CONTENT  CLASS\n",
      "54        Eminem and Rihanna sing the song very well.﻿      0\n",
      "276  Check Out The New Hot Video By Dante B Called ...      1\n",
      "74                                     Love this song﻿      0\n",
      "98                The rap: cool     Rihanna: STTUUPID﻿      0\n",
      "284                check out my page ADAM B BEATS 2013      1\n"
     ]
    }
   ],
   "source": [
    "data = data[[\"CONTENT\", \"CLASS\"]]\n",
    "print(data.sample(5))"
   ]
  },
  {
   "cell_type": "code",
   "execution_count": 3,
   "id": "58d239b8-2af1-402b-bd6b-baa738edf2b4",
   "metadata": {},
   "outputs": [
    {
     "name": "stdout",
     "output_type": "stream",
     "text": [
      "                                               CONTENT         CLASS\n",
      "18       Rihanna and Eminem together are unstoppable.﻿      Not Spam\n",
      "273  Check out my channel to see Rihanna short mix ...  Spam Comment\n",
      "435      subscribe to my channel  /watch?v=NxK32i0HkDs  Spam Comment\n",
      "122                   Hay dakota u earned a subscribee  Spam Comment\n",
      "400                                            ❤️❤️❤️﻿      Not Spam\n"
     ]
    }
   ],
   "source": [
    "data[\"CLASS\"] = data[\"CLASS\"].map({0: \"Not Spam\",\n",
    "                                   1: \"Spam Comment\"})\n",
    "print(data.sample(5))"
   ]
  },
  {
   "cell_type": "code",
   "execution_count": 4,
   "id": "fd6844b6-4028-4985-a639-43597fb40c9f",
   "metadata": {},
   "outputs": [
    {
     "name": "stdout",
     "output_type": "stream",
     "text": [
      "0.8111111111111111\n"
     ]
    }
   ],
   "source": [
    "x = np.array(data[\"CONTENT\"])\n",
    "y = np.array(data[\"CLASS\"])\n",
    "\n",
    "cv = CountVectorizer()\n",
    "x = cv.fit_transform(x)\n",
    "xtrain, xtest, ytrain, ytest = train_test_split(x, y, \n",
    "                                                test_size=0.2, \n",
    "                                                random_state=42)\n",
    "\n",
    "model = BernoulliNB()\n",
    "model.fit(xtrain, ytrain)\n",
    "print(model.score(xtest, ytest))"
   ]
  },
  {
   "cell_type": "code",
   "execution_count": 5,
   "id": "8c430dfd-5beb-4dbe-804d-e3d02e086354",
   "metadata": {},
   "outputs": [
    {
     "name": "stdout",
     "output_type": "stream",
     "text": [
      "['Spam Comment']\n"
     ]
    }
   ],
   "source": [
    "sample = \"CONTENT 18+ Check out our Channel for nice Beats!!﻿\" \n",
    "data = cv.transform([sample]).toarray()\n",
    "print(model.predict(data))"
   ]
  },
  {
   "cell_type": "code",
   "execution_count": 6,
   "id": "d71865d7-7adc-431c-9cde-755bea60aaf6",
   "metadata": {},
   "outputs": [
    {
     "name": "stdout",
     "output_type": "stream",
     "text": [
      "['Not Spam']\n"
     ]
    }
   ],
   "source": [
    "sample = \"Lack of information!\" \n",
    "data = cv.transform([sample]).toarray()\n",
    "print(model.predict(data)) "
   ]
  },
  {
   "cell_type": "code",
   "execution_count": null,
   "id": "0b3934f7-0fb5-4578-9b70-1433511cec9e",
   "metadata": {},
   "outputs": [],
   "source": []
  }
 ],
 "metadata": {
  "kernelspec": {
   "display_name": "Python 3 (ipykernel)",
   "language": "python",
   "name": "python3"
  },
  "language_info": {
   "codemirror_mode": {
    "name": "ipython",
    "version": 3
   },
   "file_extension": ".py",
   "mimetype": "text/x-python",
   "name": "python",
   "nbconvert_exporter": "python",
   "pygments_lexer": "ipython3",
   "version": "3.12.4"
  }
 },
 "nbformat": 4,
 "nbformat_minor": 5
}
